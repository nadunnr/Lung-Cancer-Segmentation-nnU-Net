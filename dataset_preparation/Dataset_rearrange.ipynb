{
 "cells": [
  {
   "cell_type": "code",
   "execution_count": 1,
   "id": "41c9b396",
   "metadata": {},
   "outputs": [],
   "source": [
    "import numpy as np\n",
    "import nibabel as nib\n",
    "import glob\n",
    "import os\n",
    "import shutil\n",
    "import csv\n"
   ]
  },
  {
   "cell_type": "code",
   "execution_count": 364,
   "id": "f179fc5e",
   "metadata": {},
   "outputs": [],
   "source": [
    "source = 'D:/ScholarX/Output/'"
   ]
  },
  {
   "cell_type": "code",
   "execution_count": 365,
   "id": "b53d2210",
   "metadata": {},
   "outputs": [],
   "source": [
    "test = 'D:/ScholarX/error_images/test/'"
   ]
  },
  {
   "cell_type": "markdown",
   "id": "7fbaf54e",
   "metadata": {},
   "source": [
    "testing for remove initial segmentation file"
   ]
  },
  {
   "cell_type": "code",
   "execution_count": 306,
   "id": "067f4b9b",
   "metadata": {},
   "outputs": [],
   "source": [
    "temp_files = glob.iglob(os.path.join(test, '**'), recursive =True)\n",
    "source = 'D:/ScholarX/Output/'\n",
    "files = glob.iglob(os.path.join(source, '**'), recursive = True)"
   ]
  },
  {
   "cell_type": "code",
   "execution_count": 307,
   "id": "979224e3",
   "metadata": {},
   "outputs": [],
   "source": [
    "delete = []\n",
    "arr = []\n",
    "    \n",
    "def delete_dir(path):\n",
    "    if len(os.listdir(path)) == 0:\n",
    "        os.rmdir(path)\n",
    "        arr.append(True)\n",
    "    else:\n",
    "        if path in delete:\n",
    "            delete.remove(path)\n",
    "        else:\n",
    "            delete.append(path)\n"
   ]
  },
  {
   "cell_type": "code",
   "execution_count": 308,
   "id": "a34470b2",
   "metadata": {},
   "outputs": [],
   "source": [
    "c = 0\n",
    "\n",
    "for i,file in enumerate(files):\n",
    "    file_name = os.path.basename(file)\n",
    "\n",
    "    if os.path.isfile(file):\n",
    "        \n",
    "        patient_id = file[19:22]\n",
    "        directory = os.path.dirname(file)\n",
    "        root_path = os.path.dirname(directory)\n",
    "        \n",
    "        if (\"Masked\" not in file_name) and (\"3D Slicer segmentation\" in file_name):\n",
    "            os.remove(file)\n",
    "            delete_dir(directory)\n",
    "            \n",
    "        \n",
    "        elif (\"Masked\" in file_name) and (\"3D Slicer segmentation\" in file_name):\n",
    "            dest_1 = os.path.join(root_path, patient_id + \"_segmentation.nii\")\n",
    "            shutil.move(file, dest_1)\n",
    "            delete_dir(directory)\n",
    "        \n",
    "        else:\n",
    "            dest_2 = os.path.join(root_path, patient_id + \"_main.nii.gz\")\n",
    "            shutil.move(file, dest_2)\n",
    "            delete_dir(directory)\n",
    "\n",
    "    "
   ]
  },
  {
   "cell_type": "code",
   "execution_count": 350,
   "id": "6e2b34af",
   "metadata": {},
   "outputs": [
    {
     "name": "stdout",
     "output_type": "stream",
     "text": [
      "<class 'nibabel.nifti1.Nifti1Header'> object, endian='<'\n",
      "sizeof_hdr      : 348\n",
      "data_type       : b''\n",
      "db_name         : b''\n",
      "extents         : 0\n",
      "session_error   : 0\n",
      "regular         : b''\n",
      "dim_info        : 0\n",
      "dim             : [  3 512 512 304   1   1   1   1]\n",
      "intent_p1       : 0.0\n",
      "intent_p2       : 0.0\n",
      "intent_p3       : 0.0\n",
      "intent_code     : none\n",
      "datatype        : int16\n",
      "bitpix          : 16\n",
      "slice_start     : 0\n",
      "pixdim          : [-1.         0.6933594  0.6933594  1.         1.         1.\n",
      "  1.         1.       ]\n",
      "vox_offset      : 0.0\n",
      "scl_slope       : nan\n",
      "scl_inter       : nan\n",
      "slice_end       : 0\n",
      "slice_code      : unknown\n",
      "xyzt_units      : 2\n",
      "cal_max         : 0.0\n",
      "cal_min         : 0.0\n",
      "slice_duration  : 0.0\n",
      "toffset         : 0.0\n",
      "glmax           : 0\n",
      "glmin           : 0\n",
      "descrip         : b''\n",
      "aux_file        : b''\n",
      "qform_code      : unknown\n",
      "sform_code      : aligned\n",
      "quatern_b       : 0.0\n",
      "quatern_c       : 1.0\n",
      "quatern_d       : 0.0\n",
      "qoffset_x       : 182.15332\n",
      "qoffset_y       : -40.15332\n",
      "qoffset_z       : -305.0\n",
      "srow_x          : [ -0.6933594   0.          0.        182.15332  ]\n",
      "srow_y          : [ -0.          0.6933594   0.        -40.15332  ]\n",
      "srow_z          : [   0.   -0.    1. -305.]\n",
      "intent_name     : b''\n",
      "magic           : b'n+1'\n"
     ]
    }
   ],
   "source": [
    "print(img.header)\n"
   ]
  },
  {
   "cell_type": "code",
   "execution_count": 13,
   "id": "92b7ee4f",
   "metadata": {},
   "outputs": [],
   "source": [
    "csv_path = 'D:/ScholarX/dataset_info.csv'\n",
    "\n",
    "columns = ['patient_id', 'main size (MB)', 'seg. size(MB)', 'dimensions - x', 'dimensions - y', 'dimensions - z', 'vox. spacing - x', 'vox. spacing - y', 'vox. spacing - z']\n",
    "\n",
    "out = 'D:/ScholarX/Output/'\n",
    "patient_ids = os.listdir(out)\n",
    "\n",
    "with open(csv_path, mode='w', newline='') as file:\n",
    "\n",
    "    csv_writer = csv.writer(file)\n",
    "    csv_writer.writerow(columns)\n",
    "\n",
    "    for i,id in enumerate(patient_ids):\n",
    "\n",
    "        temp = []\n",
    "\n",
    "        path = os.path.join(out, id)\n",
    "        files = os.listdir(path)\n",
    "\n",
    "        main = os.path.join(path, files[0])\n",
    "        segmentation = os.path.join(path, files[1])\n",
    "\n",
    "        temp.append(id)\n",
    "\n",
    "        #file_sizes\n",
    "        main_size = format((os.stat(main).st_size /(1024*1024)),'.2f')\n",
    "        temp.append(main_size)\n",
    "        seg_size= format((os.stat(segmentation).st_size/(1024*1024)), '.2f')\n",
    "        temp.append(seg_size)\n",
    "\n",
    "        #image header info\n",
    "        img = nib.load(main)\n",
    "        header = img.header\n",
    "        dimensions = list(header['dim'][1:4])\n",
    "        spacing = list(header['pixdim'][1:4])\n",
    "\n",
    "        for axis in dimensions:\n",
    "            temp.append(axis)\n",
    "        for axis in spacing:\n",
    "            temp.append(axis)\n",
    "\n",
    "        csv_writer.writerow(temp)"
   ]
  },
  {
   "cell_type": "code",
   "execution_count": 3,
   "id": "7d6df555",
   "metadata": {},
   "outputs": [
    {
     "name": "stdout",
     "output_type": "stream",
     "text": [
      "77\n"
     ]
    }
   ],
   "source": [
    "c = 0\n",
    "\n",
    "source = 'D:/ScholarX/Output/'\n",
    "patient_ids = os.listdir(source)\n",
    "\n",
    "for i,patient_id in enumerate(patient_ids):\n",
    "    \n",
    "    path = os.path.join(source, patient_id)\n",
    "    files = os.listdir(path)\n",
    "    flag = False\n",
    "    \n",
    "    for i,base in enumerate(files):\n",
    "        \n",
    "        if \"segmentation.nii\" in base:\n",
    "            in_path = os.path.join(path, base)\n",
    "            name = patient_id + \"_segmentation.nii.gz\"\n",
    "            out_path = os.path.join(path, name)\n",
    "            \n",
    "            img = nib.load(in_path)\n",
    "            nib.save(img, out_path)\n",
    "            c+=1\n",
    "            \n",
    "print(c)"
   ]
  },
  {
   "cell_type": "code",
   "execution_count": 11,
   "id": "56bbcc14",
   "metadata": {},
   "outputs": [
    {
     "name": "stdout",
     "output_type": "stream",
     "text": [
      "77\n"
     ]
    }
   ],
   "source": [
    "c = 0\n",
    "\n",
    "source = 'D:/ScholarX/Output/'\n",
    "patient_ids = os.listdir(source)\n",
    "\n",
    "for i,patient_id in enumerate(patient_ids):\n",
    "    \n",
    "    path = os.path.join(source, patient_id)\n",
    "    files = os.listdir(path)\n",
    "    flag = False\n",
    "    \n",
    "    for i,file in enumerate(files):\n",
    "        full_path = os.path.join(path, file)\n",
    "        seg_path = os.path.join(path, patient_id + \"_segmentation.nii\")\n",
    "        \n",
    "        if seg_path == full_path:\n",
    "            try:\n",
    "                os.remove(full_path)\n",
    "            except:\n",
    "                pass\n",
    "            else:\n",
    "                c+=1\n",
    "            \n",
    "print(c)"
   ]
  }
 ],
 "metadata": {
  "kernelspec": {
   "display_name": "Python 3 (ipykernel)",
   "language": "python",
   "name": "python3"
  },
  "language_info": {
   "codemirror_mode": {
    "name": "ipython",
    "version": 3
   },
   "file_extension": ".py",
   "mimetype": "text/x-python",
   "name": "python",
   "nbconvert_exporter": "python",
   "pygments_lexer": "ipython3",
   "version": "3.11.3"
  }
 },
 "nbformat": 4,
 "nbformat_minor": 5
}
