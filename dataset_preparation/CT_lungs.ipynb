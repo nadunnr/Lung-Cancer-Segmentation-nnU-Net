{
 "cells": [
  {
   "cell_type": "code",
   "execution_count": 31,
   "id": "61878363",
   "metadata": {},
   "outputs": [],
   "source": [
    "import dicom2nifti\n",
    "import os\n",
    "import glob\n",
    "import pydicom\n",
    "import nibabel as nib\n",
    "import shutil\n",
    "import numpy as np"
   ]
  },
  {
   "cell_type": "code",
   "execution_count": 3,
   "id": "fba9ea49",
   "metadata": {},
   "outputs": [],
   "source": [
    "def lenof_dicom_dir(curr_path):\n",
    "    '''function to check if the current directory having any dicom files'''\n",
    "    num_dcm = len(glob.glob(os.path.join(curr_path, '*.dcm')))\n",
    "    return num_dcm\n",
    "\n",
    "count = 0 #number of nifti files\n",
    "input_path = 'D:/ScholarX/Dataset/'  #input file path to NSCLC Radiogenomics directory\n",
    "output_path = 'D:/ScholarX/Output/'                              #output directory\n",
    "test_input = 'D:/ScholarX/Dataset/'"
   ]
  },
  {
   "cell_type": "code",
   "execution_count": 4,
   "id": "7ae6c118",
   "metadata": {},
   "outputs": [],
   "source": [
    "in1 = 'D:/ScholarX/Dataset/R01-119/06-28-1995-NA-CT CHEST W-26641'\n",
    "out1 = 'D:/ScholarX/Output/001/09-06-1990-NA-CT CHEST ABD PELVIS WITH CON-98785/1000.000000-3D Slicer segmentation result-67652.nii'"
   ]
  },
  {
   "cell_type": "code",
   "execution_count": null,
   "id": "0167515e",
   "metadata": {},
   "outputs": [],
   "source": [
    "dicom2nifti.convert_directory(in1,out1)"
   ]
  },
  {
   "cell_type": "code",
   "execution_count": 20,
   "id": "06e14fb8",
   "metadata": {},
   "outputs": [],
   "source": [
    "nifti_file = nib.load(out1)"
   ]
  },
  {
   "cell_type": "code",
   "execution_count": 26,
   "id": "274853dc",
   "metadata": {},
   "outputs": [],
   "source": [
    "array = nifti_file.get_fdata()"
   ]
  },
  {
   "cell_type": "code",
   "execution_count": 27,
   "id": "c34369e7",
   "metadata": {},
   "outputs": [
    {
     "data": {
      "text/plain": [
       "(512, 512, 304)"
      ]
     },
     "execution_count": 27,
     "metadata": {},
     "output_type": "execute_result"
    }
   ],
   "source": [
    "array.shape"
   ]
  },
  {
   "cell_type": "code",
   "execution_count": 28,
   "id": "62c577c7",
   "metadata": {},
   "outputs": [],
   "source": [
    "array[array == 255] = 1"
   ]
  },
  {
   "cell_type": "code",
   "execution_count": 29,
   "id": "507a2cae",
   "metadata": {},
   "outputs": [],
   "source": [
    "array = np.flip(array, axis = 1)\n",
    "array_img = nib.Nifti1Image(array, nifti_file.affine)"
   ]
  },
  {
   "cell_type": "code",
   "execution_count": 30,
   "id": "a5fb78c9",
   "metadata": {},
   "outputs": [],
   "source": [
    "nib.save(array_img, 'D:/ScholarX/Output/001/09-06-1990-NA-CT CHEST ABD PELVIS WITH CON-98785/Masked - 1000.000000-3D Slicer segmentation result-67652.nii')"
   ]
  },
  {
   "cell_type": "code",
   "execution_count": 32,
   "id": "29b78f4a",
   "metadata": {},
   "outputs": [],
   "source": [
    "data_path = 'D:/ScholarX/Output/001/09-06-1990-NA-CT CHEST ABD PELVIS WITH CON-98785/1000.000000-3D Slicer segmentation result-67652.nii'"
   ]
  },
  {
   "cell_type": "code",
   "execution_count": 33,
   "id": "fb732908",
   "metadata": {},
   "outputs": [],
   "source": [
    "def is_segmentation_nii(curr_path):\n",
    "\n",
    "    if os.path.isfile(curr_path):\n",
    "        file_name = os.path.basename(curr_path)\n",
    "\n",
    "        if (\"3D Slicer segmentation\" in file_name) and (\".nii\" in file_name):\n",
    "            return True\n",
    "        else:\n",
    "            return False"
   ]
  },
  {
   "cell_type": "code",
   "execution_count": 35,
   "id": "a9913c5a",
   "metadata": {},
   "outputs": [],
   "source": [
    "def generate_mask(curr_path):\n",
    "    return os.path.dirname(curr_path) + '/Masked - ' + os.path.basename(curr_path)"
   ]
  },
  {
   "cell_type": "code",
   "execution_count": 36,
   "id": "7a521b7b",
   "metadata": {},
   "outputs": [],
   "source": [
    "if is_segmentation_nii(data_path):\n",
    "  \n",
    "    nifti_file = nib.load(data_path)\n",
    "    pixel_array = nifti_file.get_fdata()\n",
    "    \n",
    "    #converting white colour segmented pixels for dark colour\n",
    "    pixel_array[pixel_array == 255] = 1\n",
    "    \n",
    "    #In this dataset, segmentation files are being flipped when loaded\n",
    "    #Therefore we flip the segmentation mask to obtain the wanted one\n",
    "    pixel_array = np.flip(pixel_array, axis = 1)\n",
    "    \n",
    "    #Save the pixel array as a nifti file\n",
    "    array_image = nib.Nifti1Image(pixel_array, nifti_file.affine)\n",
    "    \n",
    "    #save path\n",
    "    nifti_out_path = generate_mask(data_path)\n",
    "    nib.save(array_image, nifti_out_path)"
   ]
  },
  {
   "cell_type": "code",
   "execution_count": 39,
   "id": "f02b3431",
   "metadata": {},
   "outputs": [],
   "source": [
    "data_path = 'D:/ScholarX/Output/'\n",
    "count = 0\n",
    "\n",
    "# Used recursive glob to find all subdirectories\n",
    "files = glob.iglob(os.path.join(data_path, '**'), recursive=True)\n",
    "\n",
    "\n",
    "for i, file in enumerate(files):\n",
    "    if is_segmentation_nii(file):\n",
    "        count += 1"
   ]
  },
  {
   "cell_type": "code",
   "execution_count": 40,
   "id": "9ff178d6",
   "metadata": {},
   "outputs": [
    {
     "data": {
      "text/plain": [
       "96"
      ]
     },
     "execution_count": 40,
     "metadata": {},
     "output_type": "execute_result"
    }
   ],
   "source": [
    "count"
   ]
  },
  {
   "cell_type": "code",
   "execution_count": 43,
   "id": "0c0b7935",
   "metadata": {},
   "outputs": [],
   "source": [
    "data_path = 'D:/ScholarX/Output/'\n",
    "c = 0\n",
    "\n",
    "# Used recursive glob to find all subdirectories\n",
    "files = glob.iglob(os.path.join(data_path, '**'), recursive=True)\n",
    "\n",
    "\n",
    "for i, file in enumerate(files):\n",
    "    if is_segmentation_nii(file):\n",
    "        c += 1"
   ]
  },
  {
   "cell_type": "code",
   "execution_count": 42,
   "id": "71f07902",
   "metadata": {},
   "outputs": [
    {
     "data": {
      "text/plain": [
       "96"
      ]
     },
     "execution_count": 42,
     "metadata": {},
     "output_type": "execute_result"
    }
   ],
   "source": [
    "count"
   ]
  },
  {
   "cell_type": "code",
   "execution_count": 44,
   "id": "00207dae",
   "metadata": {},
   "outputs": [
    {
     "data": {
      "text/plain": [
       "96"
      ]
     },
     "execution_count": 44,
     "metadata": {},
     "output_type": "execute_result"
    }
   ],
   "source": [
    "c"
   ]
  },
  {
   "cell_type": "markdown",
   "id": "c73f90fd",
   "metadata": {},
   "source": [
    "Individual Tests from here"
   ]
  },
  {
   "cell_type": "code",
   "execution_count": 1,
   "id": "846c7abd",
   "metadata": {},
   "outputs": [],
   "source": [
    "import dicom2nifti\n",
    "import os\n",
    "import glob\n",
    "import pydicom\n",
    "import nibabel as nib\n",
    "import shutil\n",
    "import numpy as np"
   ]
  },
  {
   "cell_type": "code",
   "execution_count": 2,
   "id": "29fdff0c",
   "metadata": {},
   "outputs": [],
   "source": [
    "in_path = 'D:/ScholarX/Dataset/'\n",
    "out_path = 'D:/ScholarX/test_output/'"
   ]
  },
  {
   "cell_type": "code",
   "execution_count": 3,
   "id": "92368a67",
   "metadata": {},
   "outputs": [],
   "source": [
    "in1 = 'D:/ScholarX/Dataset/R01-002/09-20-1990-NA-CT THORAX-55296/3.000000-CHEST 1.25 MM-41459/'"
   ]
  },
  {
   "cell_type": "code",
   "execution_count": 4,
   "id": "b37ab779",
   "metadata": {},
   "outputs": [],
   "source": [
    "dicom2nifti.convert_directory(in1, out_path)"
   ]
  },
  {
   "cell_type": "code",
   "execution_count": 5,
   "id": "fada1042",
   "metadata": {},
   "outputs": [],
   "source": [
    "in2 = 'D:/ScholarX/Dataset/R01-044/10-06-1992-NA-CT CHEST WO CONT-DESC-59339/601.000000-CT Thick Axials 2.5mm-78695'"
   ]
  },
  {
   "cell_type": "code",
   "execution_count": null,
   "id": "3e8c06e0",
   "metadata": {},
   "outputs": [],
   "source": []
  }
 ],
 "metadata": {
  "kernelspec": {
   "display_name": "Python 3 (ipykernel)",
   "language": "python",
   "name": "python3"
  },
  "language_info": {
   "codemirror_mode": {
    "name": "ipython",
    "version": 3
   },
   "file_extension": ".py",
   "mimetype": "text/x-python",
   "name": "python",
   "nbconvert_exporter": "python",
   "pygments_lexer": "ipython3",
   "version": "3.11.3"
  }
 },
 "nbformat": 4,
 "nbformat_minor": 5
}
