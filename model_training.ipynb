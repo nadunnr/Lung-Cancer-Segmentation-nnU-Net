{
 "cells": [
  {
   "cell_type": "code",
   "execution_count": 4,
   "id": "d2bbcc0c-6830-4fc2-868c-0312bf88e5ef",
   "metadata": {},
   "outputs": [
    {
     "name": "stdout",
     "output_type": "stream",
     "text": [
      "D:\\ScholarX\\nnU-Net\\nnUNet_preprocessed\\Dataset001_LungCancer\n"
     ]
    }
   ],
   "source": [
    "%cd \"D:\\ScholarX\\nnU-Net\\nnUNet_preprocessed\\Dataset001_LungCancer\""
   ]
  },
  {
   "cell_type": "code",
   "execution_count": 5,
   "id": "8b8a0917-63d2-45ab-b865-253a72e1624f",
   "metadata": {},
   "outputs": [
    {
     "name": "stdout",
     "output_type": "stream",
     "text": [
      " Volume in drive D is DATA\n",
      " Volume Serial Number is 26BD-BE8F\n",
      "\n",
      " Directory of D:\\ScholarX\\nnU-Net\\nnUNet_preprocessed\\Dataset001_LungCancer\n",
      "\n",
      "03/10/2024  02:08 PM    <DIR>          .\n",
      "02/01/2024  11:02 PM    <DIR>          ..\n",
      "02/01/2024  11:03 PM               325 dataset.json\n",
      "02/01/2024  11:03 PM            11,120 dataset_fingerprint.json\n",
      "02/01/2024  11:43 PM    <DIR>          gt_segmentations\n",
      "02/01/2024  11:03 PM            11,892 nnUNetPlans.json\n",
      "03/24/2024  09:27 AM    <DIR>          nnUNetPlans_2d\n",
      "02/01/2024  11:37 PM    <DIR>          nnUNetPlans_3d_fullres\n",
      "03/10/2024  02:08 PM    <DIR>          nnUNetPlans_3d_lowres\n",
      "03/10/2024  02:08 PM             8,123 splits_final.json\n",
      "               4 File(s)         31,460 bytes\n",
      "               6 Dir(s)  55,029,248,000 bytes free\n"
     ]
    }
   ],
   "source": [
    "!dir"
   ]
  },
  {
   "cell_type": "code",
   "execution_count": 6,
   "id": "45445415-ade1-4e07-a262-c01404d94cd9",
   "metadata": {},
   "outputs": [
    {
     "name": "stdout",
     "output_type": "stream",
     "text": [
      "usage: nnUNetv2_train [-h] [-tr TR] [-p P]\n",
      "                      [-pretrained_weights PRETRAINED_WEIGHTS]\n",
      "                      [-num_gpus NUM_GPUS] [--use_compressed] [--npz] [--c]\n",
      "                      [--val] [--val_best] [--disable_checkpointing]\n",
      "                      [-device DEVICE]\n",
      "                      dataset_name_or_id configuration fold\n",
      "\n",
      "positional arguments:\n",
      "  dataset_name_or_id    Dataset name or ID to train with\n",
      "  configuration         Configuration that should be trained\n",
      "  fold                  Fold of the 5-fold cross-validation. Should be an int\n",
      "                        between 0 and 4.\n",
      "\n",
      "options:\n",
      "  -h, --help            show this help message and exit\n",
      "  -tr TR                [OPTIONAL] Use this flag to specify a custom trainer.\n",
      "                        Default: nnUNetTrainer\n",
      "  -p P                  [OPTIONAL] Use this flag to specify a custom plans\n",
      "                        identifier. Default: nnUNetPlans\n",
      "  -pretrained_weights PRETRAINED_WEIGHTS\n",
      "                        [OPTIONAL] path to nnU-Net checkpoint file to be used\n",
      "                        as pretrained model. Will only be used when actually\n",
      "                        training. Beta. Use with caution.\n",
      "  -num_gpus NUM_GPUS    Specify the number of GPUs to use for training\n",
      "  --use_compressed      [OPTIONAL] If you set this flag the training cases\n",
      "                        will not be decompressed. Reading compressed data is\n",
      "                        much more CPU and (potentially) RAM intensive and\n",
      "                        should only be used if you know what you are doing\n",
      "  --npz                 [OPTIONAL] Save softmax predictions from final\n",
      "                        validation as npz files (in addition to predicted\n",
      "                        segmentations). Needed for finding the best ensemble.\n",
      "  --c                   [OPTIONAL] Continue training from latest checkpoint\n",
      "  --val                 [OPTIONAL] Set this flag to only run the validation.\n",
      "                        Requires training to have finished.\n",
      "  --val_best            [OPTIONAL] If set, the validation will be performed\n",
      "                        with the checkpoint_best instead of checkpoint_final.\n",
      "                        NOT COMPATIBLE with --disable_checkpointing! WARNING:\n",
      "                        This will use the same 'validation' folder as the\n",
      "                        regular validation with no way of distinguishing the\n",
      "                        two!\n",
      "  --disable_checkpointing\n",
      "                        [OPTIONAL] Set this flag to disable checkpointing.\n",
      "                        Ideal for testing things out and you dont want to\n",
      "                        flood your hard drive with checkpoints.\n",
      "  -device DEVICE        Use this to set the device the training should run\n",
      "                        with. Available options are 'cuda' (GPU), 'cpu' (CPU)\n",
      "                        and 'mps' (Apple M1/M2). Do NOT use this to set which\n",
      "                        GPU ID! Use CUDA_VISIBLE_DEVICES=X nnUNetv2_train\n",
      "                        [...] instead!\n"
     ]
    }
   ],
   "source": [
    "command1 = \"nnUNetv2_train -h\"\n",
    "!{command1}"
   ]
  },
  {
   "cell_type": "code",
   "execution_count": null,
   "id": "4e333978-7751-4a1b-b098-01d9a8d324e2",
   "metadata": {},
   "outputs": [],
   "source": [
    "import torch\n",
    "\n",
    "# Check if CUDA is available\n",
    "if torch.cuda.is_available():\n",
    "    # Get the number of available CUDA devices\n",
    "    num_cuda_devices = torch.cuda.device_count()\n",
    "    print(f\"Found {num_cuda_devices} CUDA device(s) available.\")\n",
    "    \n",
    "    # Iterate over each CUDA device and print its properties\n",
    "    for i in range(num_cuda_devices):\n",
    "        print(f\"CUDA device {i}: {torch.cuda.get_device_name(i)}\")\n",
    "else:\n",
    "    print(\"CUDA is not available. Make sure CUDA drivers are properly installed.\")"
   ]
  },
  {
   "cell_type": "markdown",
   "id": "2f33ae4c-d61d-4869-b9e5-b38391f32164",
   "metadata": {},
   "source": [
    "Training nnUNet 3d-lowres"
   ]
  },
  {
   "cell_type": "code",
   "execution_count": null,
   "id": "1b687832-06db-42b3-b680-0d483d075f39",
   "metadata": {},
   "outputs": [],
   "source": [
    "for fold in range(0,5):\n",
    "    command = f\"nnUNetv2_train 001 2d {fold} --npz -device cuda\"\n",
    "    !{command}"
   ]
  },
  {
   "cell_type": "code",
   "execution_count": null,
   "id": "98534d06",
   "metadata": {},
   "outputs": [],
   "source": [
    "for fold in range(0,5):\n",
    "    command = f\"nnUNetv2_train 001 3dlowres {fold} --npz -device cuda\"\n",
    "    !{command}"
   ]
  },
  {
   "cell_type": "code",
   "execution_count": null,
   "id": "f5c42798",
   "metadata": {},
   "outputs": [],
   "source": [
    "for fold in range(0,5):\n",
    "    command = f\"nnUNetv2_train 001 3dfullres {fold} --npz -device cuda\"\n",
    "    !{command}"
   ]
  }
 ],
 "metadata": {
  "kernelspec": {
   "display_name": "Python 3 (ipykernel)",
   "language": "python",
   "name": "python3"
  },
  "language_info": {
   "codemirror_mode": {
    "name": "ipython",
    "version": 3
   },
   "file_extension": ".py",
   "mimetype": "text/x-python",
   "name": "python",
   "nbconvert_exporter": "python",
   "pygments_lexer": "ipython3",
   "version": "3.11.3"
  }
 },
 "nbformat": 4,
 "nbformat_minor": 5
}
